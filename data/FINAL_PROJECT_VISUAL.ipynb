{
 "cells": [
  {
   "cell_type": "markdown",
   "metadata": {},
   "source": [
    "# Brexit Data\n",
    "### Dario Benvenuti, Alba Puy Tapia"
   ]
  },
  {
   "cell_type": "markdown",
   "metadata": {},
   "source": [
    "## Cleaning and merging the data"
   ]
  },
  {
   "cell_type": "markdown",
   "metadata": {},
   "source": [
    "### First we want to join our two data sets in which we had the census information of the population of the UK and referendum in which we have the results obtained in the brexit"
   ]
  },
  {
   "cell_type": "code",
   "execution_count": 1,
   "metadata": {
    "collapsed": true
   },
   "outputs": [],
   "source": [
    "import numpy as np \n",
    "import pandas as pd"
   ]
  },
  {
   "cell_type": "code",
   "execution_count": 2,
   "metadata": {
    "collapsed": true
   },
   "outputs": [],
   "source": [
    "#importing the census dataset\n",
    "data1=pd.io.parsers.read_csv('census.csv', delimiter = ',',index_col= \"Code\")"
   ]
  },
  {
   "cell_type": "code",
   "execution_count": 3,
   "metadata": {},
   "outputs": [
    {
     "data": {
      "text/html": [
       "<div>\n",
       "<style>\n",
       "    .dataframe thead tr:only-child th {\n",
       "        text-align: right;\n",
       "    }\n",
       "\n",
       "    .dataframe thead th {\n",
       "        text-align: left;\n",
       "    }\n",
       "\n",
       "    .dataframe tbody tr th {\n",
       "        vertical-align: top;\n",
       "    }\n",
       "</style>\n",
       "<table border=\"1\" class=\"dataframe\">\n",
       "  <thead>\n",
       "    <tr style=\"text-align: right;\">\n",
       "      <th></th>\n",
       "      <th>Type</th>\n",
       "      <th>Area</th>\n",
       "      <th>All Residents</th>\n",
       "      <th>Age 0 to 4</th>\n",
       "      <th>Age 5 to 9</th>\n",
       "      <th>Age 10 to 14</th>\n",
       "      <th>Age 15 to 19</th>\n",
       "      <th>Age 20 to 24</th>\n",
       "      <th>Age 25 to 29</th>\n",
       "      <th>Age 30 to 34</th>\n",
       "      <th>...</th>\n",
       "      <th>Age 45 to 49</th>\n",
       "      <th>Age 50 to 54</th>\n",
       "      <th>Age 55 to 59</th>\n",
       "      <th>Age 60 to 64</th>\n",
       "      <th>Age 65 to 69</th>\n",
       "      <th>Age 70 to 74</th>\n",
       "      <th>Age 75 to 79</th>\n",
       "      <th>Age 80 to 84</th>\n",
       "      <th>Age 85 to 89</th>\n",
       "      <th>Age 90 and Over</th>\n",
       "    </tr>\n",
       "    <tr>\n",
       "      <th>Code</th>\n",
       "      <th></th>\n",
       "      <th></th>\n",
       "      <th></th>\n",
       "      <th></th>\n",
       "      <th></th>\n",
       "      <th></th>\n",
       "      <th></th>\n",
       "      <th></th>\n",
       "      <th></th>\n",
       "      <th></th>\n",
       "      <th></th>\n",
       "      <th></th>\n",
       "      <th></th>\n",
       "      <th></th>\n",
       "      <th></th>\n",
       "      <th></th>\n",
       "      <th></th>\n",
       "      <th></th>\n",
       "      <th></th>\n",
       "      <th></th>\n",
       "      <th></th>\n",
       "    </tr>\n",
       "  </thead>\n",
       "  <tbody>\n",
       "    <tr>\n",
       "      <th>K02000001</th>\n",
       "      <td>Country</td>\n",
       "      <td>United Kingdom</td>\n",
       "      <td>63182175</td>\n",
       "      <td>3913932</td>\n",
       "      <td>3516698</td>\n",
       "      <td>3669311</td>\n",
       "      <td>3996426</td>\n",
       "      <td>4297158</td>\n",
       "      <td>4306308</td>\n",
       "      <td>4125454</td>\n",
       "      <td>...</td>\n",
       "      <td>4643071</td>\n",
       "      <td>4094427</td>\n",
       "      <td>3614087</td>\n",
       "      <td>3807952</td>\n",
       "      <td>3017482</td>\n",
       "      <td>2462751</td>\n",
       "      <td>2006005</td>\n",
       "      <td>1604771</td>\n",
       "      <td>846836.0</td>\n",
       "      <td>439248.0</td>\n",
       "    </tr>\n",
       "    <tr>\n",
       "      <th>K04000001</th>\n",
       "      <td>Country</td>\n",
       "      <td>England and Wales</td>\n",
       "      <td>56075912</td>\n",
       "      <td>3496750</td>\n",
       "      <td>3135711</td>\n",
       "      <td>3258677</td>\n",
       "      <td>3539385</td>\n",
       "      <td>3807245</td>\n",
       "      <td>3836609</td>\n",
       "      <td>3683915</td>\n",
       "      <td>...</td>\n",
       "      <td>4100526</td>\n",
       "      <td>3601694</td>\n",
       "      <td>3183915</td>\n",
       "      <td>3377162</td>\n",
       "      <td>2674161</td>\n",
       "      <td>2178672</td>\n",
       "      <td>1777547</td>\n",
       "      <td>1338005</td>\n",
       "      <td>825671.0</td>\n",
       "      <td>429017.0</td>\n",
       "    </tr>\n",
       "    <tr>\n",
       "      <th>E92000001</th>\n",
       "      <td>Country</td>\n",
       "      <td>England</td>\n",
       "      <td>53012456</td>\n",
       "      <td>3318449</td>\n",
       "      <td>2972632</td>\n",
       "      <td>3080929</td>\n",
       "      <td>3340265</td>\n",
       "      <td>3595321</td>\n",
       "      <td>3650881</td>\n",
       "      <td>3509221</td>\n",
       "      <td>...</td>\n",
       "      <td>3879815</td>\n",
       "      <td>3400095</td>\n",
       "      <td>2996992</td>\n",
       "      <td>3172277</td>\n",
       "      <td>2508154</td>\n",
       "      <td>2044129</td>\n",
       "      <td>1669345</td>\n",
       "      <td>1258773</td>\n",
       "      <td>776311.0</td>\n",
       "      <td>403817.0</td>\n",
       "    </tr>\n",
       "    <tr>\n",
       "      <th>W92000004</th>\n",
       "      <td>Country</td>\n",
       "      <td>Wales</td>\n",
       "      <td>3063456</td>\n",
       "      <td>178301</td>\n",
       "      <td>163079</td>\n",
       "      <td>177748</td>\n",
       "      <td>199120</td>\n",
       "      <td>211924</td>\n",
       "      <td>185728</td>\n",
       "      <td>174694</td>\n",
       "      <td>...</td>\n",
       "      <td>220711</td>\n",
       "      <td>201599</td>\n",
       "      <td>186923</td>\n",
       "      <td>204885</td>\n",
       "      <td>166007</td>\n",
       "      <td>134543</td>\n",
       "      <td>108202</td>\n",
       "      <td>79232</td>\n",
       "      <td>49360.0</td>\n",
       "      <td>25200.0</td>\n",
       "    </tr>\n",
       "    <tr>\n",
       "      <th>N92000002</th>\n",
       "      <td>Country</td>\n",
       "      <td>Northern Ireland</td>\n",
       "      <td>1810863</td>\n",
       "      <td>124382</td>\n",
       "      <td>111287</td>\n",
       "      <td>119034</td>\n",
       "      <td>126241</td>\n",
       "      <td>126013</td>\n",
       "      <td>124099</td>\n",
       "      <td>119839</td>\n",
       "      <td>...</td>\n",
       "      <td>131645</td>\n",
       "      <td>116933</td>\n",
       "      <td>99272</td>\n",
       "      <td>94290</td>\n",
       "      <td>82121</td>\n",
       "      <td>63479</td>\n",
       "      <td>50358</td>\n",
       "      <td>36366</td>\n",
       "      <td>21165.0</td>\n",
       "      <td>10231.0</td>\n",
       "    </tr>\n",
       "  </tbody>\n",
       "</table>\n",
       "<p>5 rows × 22 columns</p>\n",
       "</div>"
      ],
      "text/plain": [
       "              Type               Area  All Residents  Age 0 to 4  Age 5 to 9  \\\n",
       "Code                                                                           \n",
       "K02000001  Country     United Kingdom       63182175     3913932     3516698   \n",
       "K04000001  Country  England and Wales       56075912     3496750     3135711   \n",
       "E92000001  Country            England       53012456     3318449     2972632   \n",
       "W92000004  Country              Wales        3063456      178301      163079   \n",
       "N92000002  Country   Northern Ireland        1810863      124382      111287   \n",
       "\n",
       "           Age 10 to 14  Age 15 to 19  Age 20 to 24  Age 25 to 29  \\\n",
       "Code                                                                \n",
       "K02000001       3669311       3996426       4297158       4306308   \n",
       "K04000001       3258677       3539385       3807245       3836609   \n",
       "E92000001       3080929       3340265       3595321       3650881   \n",
       "W92000004        177748        199120        211924        185728   \n",
       "N92000002        119034        126241        126013        124099   \n",
       "\n",
       "           Age 30 to 34       ...         Age 45 to 49  Age 50 to 54  \\\n",
       "Code                          ...                                      \n",
       "K02000001       4125454       ...              4643071       4094427   \n",
       "K04000001       3683915       ...              4100526       3601694   \n",
       "E92000001       3509221       ...              3879815       3400095   \n",
       "W92000004        174694       ...               220711        201599   \n",
       "N92000002        119839       ...               131645        116933   \n",
       "\n",
       "           Age 55 to 59  Age 60 to 64  Age 65 to 69  Age 70 to 74  \\\n",
       "Code                                                                \n",
       "K02000001       3614087       3807952       3017482       2462751   \n",
       "K04000001       3183915       3377162       2674161       2178672   \n",
       "E92000001       2996992       3172277       2508154       2044129   \n",
       "W92000004        186923        204885        166007        134543   \n",
       "N92000002         99272         94290         82121         63479   \n",
       "\n",
       "           Age 75 to 79  Age 80 to 84  Age 85 to 89  Age 90 and Over  \n",
       "Code                                                                  \n",
       "K02000001       2006005       1604771      846836.0         439248.0  \n",
       "K04000001       1777547       1338005      825671.0         429017.0  \n",
       "E92000001       1669345       1258773      776311.0         403817.0  \n",
       "W92000004        108202         79232       49360.0          25200.0  \n",
       "N92000002         50358         36366       21165.0          10231.0  \n",
       "\n",
       "[5 rows x 22 columns]"
      ]
     },
     "execution_count": 3,
     "metadata": {},
     "output_type": "execute_result"
    }
   ],
   "source": [
    "data1.head()"
   ]
  },
  {
   "cell_type": "code",
   "execution_count": 4,
   "metadata": {
    "collapsed": true
   },
   "outputs": [],
   "source": [
    "#importing the referendum dataset\n",
    "data2=pd.io.parsers.read_csv('referendum.csv', delimiter = ',')"
   ]
  },
  {
   "cell_type": "code",
   "execution_count": 5,
   "metadata": {},
   "outputs": [],
   "source": [
    "#since the variable we will use to join both tables have a different name we convert it\n",
    "data2=data2.rename(columns = {\"Area Code\": \"Code\"})"
   ]
  },
  {
   "cell_type": "code",
   "execution_count": 6,
   "metadata": {},
   "outputs": [
    {
     "data": {
      "text/html": [
       "<div>\n",
       "<style>\n",
       "    .dataframe thead tr:only-child th {\n",
       "        text-align: right;\n",
       "    }\n",
       "\n",
       "    .dataframe thead th {\n",
       "        text-align: left;\n",
       "    }\n",
       "\n",
       "    .dataframe tbody tr th {\n",
       "        vertical-align: top;\n",
       "    }\n",
       "</style>\n",
       "<table border=\"1\" class=\"dataframe\">\n",
       "  <thead>\n",
       "    <tr style=\"text-align: right;\">\n",
       "      <th></th>\n",
       "      <th>ID</th>\n",
       "      <th>Region Code</th>\n",
       "      <th>Region</th>\n",
       "      <th>Area</th>\n",
       "      <th>Electorate</th>\n",
       "      <th>Expected Ballots</th>\n",
       "      <th>Verified Ballot Papers</th>\n",
       "      <th>Percent Turnout</th>\n",
       "      <th>Votes Cast</th>\n",
       "      <th>Valid Votes</th>\n",
       "      <th>Remain</th>\n",
       "      <th>Leave</th>\n",
       "      <th>Rejected Ballots</th>\n",
       "      <th>No Official Mark</th>\n",
       "      <th>Multiple Marks</th>\n",
       "      <th>Writing or Mark</th>\n",
       "      <th>Unmarked or Void</th>\n",
       "      <th>Percent Remain</th>\n",
       "      <th>Percent Leave</th>\n",
       "      <th>Percent Rejected</th>\n",
       "    </tr>\n",
       "    <tr>\n",
       "      <th>Code</th>\n",
       "      <th></th>\n",
       "      <th></th>\n",
       "      <th></th>\n",
       "      <th></th>\n",
       "      <th></th>\n",
       "      <th></th>\n",
       "      <th></th>\n",
       "      <th></th>\n",
       "      <th></th>\n",
       "      <th></th>\n",
       "      <th></th>\n",
       "      <th></th>\n",
       "      <th></th>\n",
       "      <th></th>\n",
       "      <th></th>\n",
       "      <th></th>\n",
       "      <th></th>\n",
       "      <th></th>\n",
       "      <th></th>\n",
       "      <th></th>\n",
       "    </tr>\n",
       "  </thead>\n",
       "  <tbody>\n",
       "    <tr>\n",
       "      <th>E06000031</th>\n",
       "      <td>108</td>\n",
       "      <td>E12000006</td>\n",
       "      <td>East</td>\n",
       "      <td>Peterborough</td>\n",
       "      <td>120892</td>\n",
       "      <td>87474</td>\n",
       "      <td>87469</td>\n",
       "      <td>72.35</td>\n",
       "      <td>87469</td>\n",
       "      <td>87392</td>\n",
       "      <td>34176</td>\n",
       "      <td>53216</td>\n",
       "      <td>77</td>\n",
       "      <td>0</td>\n",
       "      <td>32</td>\n",
       "      <td>7</td>\n",
       "      <td>38</td>\n",
       "      <td>39.11</td>\n",
       "      <td>60.89</td>\n",
       "      <td>0.09</td>\n",
       "    </tr>\n",
       "    <tr>\n",
       "      <th>E06000032</th>\n",
       "      <td>109</td>\n",
       "      <td>E12000006</td>\n",
       "      <td>East</td>\n",
       "      <td>Luton</td>\n",
       "      <td>127612</td>\n",
       "      <td>84633</td>\n",
       "      <td>84636</td>\n",
       "      <td>66.31</td>\n",
       "      <td>84616</td>\n",
       "      <td>84481</td>\n",
       "      <td>36708</td>\n",
       "      <td>47773</td>\n",
       "      <td>135</td>\n",
       "      <td>0</td>\n",
       "      <td>85</td>\n",
       "      <td>0</td>\n",
       "      <td>50</td>\n",
       "      <td>43.45</td>\n",
       "      <td>56.55</td>\n",
       "      <td>0.16</td>\n",
       "    </tr>\n",
       "    <tr>\n",
       "      <th>E06000033</th>\n",
       "      <td>112</td>\n",
       "      <td>E12000006</td>\n",
       "      <td>East</td>\n",
       "      <td>Southend-on-Sea</td>\n",
       "      <td>128856</td>\n",
       "      <td>93948</td>\n",
       "      <td>93939</td>\n",
       "      <td>72.90</td>\n",
       "      <td>93939</td>\n",
       "      <td>93870</td>\n",
       "      <td>39348</td>\n",
       "      <td>54522</td>\n",
       "      <td>69</td>\n",
       "      <td>0</td>\n",
       "      <td>21</td>\n",
       "      <td>0</td>\n",
       "      <td>48</td>\n",
       "      <td>41.92</td>\n",
       "      <td>58.08</td>\n",
       "      <td>0.07</td>\n",
       "    </tr>\n",
       "    <tr>\n",
       "      <th>E06000034</th>\n",
       "      <td>113</td>\n",
       "      <td>E12000006</td>\n",
       "      <td>East</td>\n",
       "      <td>Thurrock</td>\n",
       "      <td>109897</td>\n",
       "      <td>79969</td>\n",
       "      <td>79954</td>\n",
       "      <td>72.75</td>\n",
       "      <td>79950</td>\n",
       "      <td>79916</td>\n",
       "      <td>22151</td>\n",
       "      <td>57765</td>\n",
       "      <td>34</td>\n",
       "      <td>0</td>\n",
       "      <td>8</td>\n",
       "      <td>3</td>\n",
       "      <td>23</td>\n",
       "      <td>27.72</td>\n",
       "      <td>72.28</td>\n",
       "      <td>0.04</td>\n",
       "    </tr>\n",
       "    <tr>\n",
       "      <th>E06000055</th>\n",
       "      <td>110</td>\n",
       "      <td>E12000006</td>\n",
       "      <td>East</td>\n",
       "      <td>Bedford</td>\n",
       "      <td>119530</td>\n",
       "      <td>86136</td>\n",
       "      <td>86136</td>\n",
       "      <td>72.06</td>\n",
       "      <td>86135</td>\n",
       "      <td>86066</td>\n",
       "      <td>41497</td>\n",
       "      <td>44569</td>\n",
       "      <td>69</td>\n",
       "      <td>0</td>\n",
       "      <td>26</td>\n",
       "      <td>1</td>\n",
       "      <td>42</td>\n",
       "      <td>48.22</td>\n",
       "      <td>51.78</td>\n",
       "      <td>0.08</td>\n",
       "    </tr>\n",
       "  </tbody>\n",
       "</table>\n",
       "</div>"
      ],
      "text/plain": [
       "            ID Region Code Region             Area  Electorate  \\\n",
       "Code                                                             \n",
       "E06000031  108   E12000006   East     Peterborough      120892   \n",
       "E06000032  109   E12000006   East            Luton      127612   \n",
       "E06000033  112   E12000006   East  Southend-on-Sea      128856   \n",
       "E06000034  113   E12000006   East         Thurrock      109897   \n",
       "E06000055  110   E12000006   East          Bedford      119530   \n",
       "\n",
       "           Expected Ballots  Verified Ballot Papers  Percent Turnout  \\\n",
       "Code                                                                   \n",
       "E06000031             87474                   87469            72.35   \n",
       "E06000032             84633                   84636            66.31   \n",
       "E06000033             93948                   93939            72.90   \n",
       "E06000034             79969                   79954            72.75   \n",
       "E06000055             86136                   86136            72.06   \n",
       "\n",
       "           Votes Cast  Valid Votes  Remain  Leave  Rejected Ballots  \\\n",
       "Code                                                                  \n",
       "E06000031       87469        87392   34176  53216                77   \n",
       "E06000032       84616        84481   36708  47773               135   \n",
       "E06000033       93939        93870   39348  54522                69   \n",
       "E06000034       79950        79916   22151  57765                34   \n",
       "E06000055       86135        86066   41497  44569                69   \n",
       "\n",
       "           No Official Mark  Multiple Marks  Writing or Mark  \\\n",
       "Code                                                           \n",
       "E06000031                 0              32                7   \n",
       "E06000032                 0              85                0   \n",
       "E06000033                 0              21                0   \n",
       "E06000034                 0               8                3   \n",
       "E06000055                 0              26                1   \n",
       "\n",
       "           Unmarked or Void  Percent Remain  Percent Leave  Percent Rejected  \n",
       "Code                                                                          \n",
       "E06000031                38           39.11          60.89              0.09  \n",
       "E06000032                50           43.45          56.55              0.16  \n",
       "E06000033                48           41.92          58.08              0.07  \n",
       "E06000034                23           27.72          72.28              0.04  \n",
       "E06000055                42           48.22          51.78              0.08  "
      ]
     },
     "execution_count": 6,
     "metadata": {},
     "output_type": "execute_result"
    }
   ],
   "source": [
    "#and set it as the index\n",
    "data2 = data2.set_index('Code')\n",
    "data2.head()"
   ]
  },
  {
   "cell_type": "code",
   "execution_count": 7,
   "metadata": {
    "collapsed": true
   },
   "outputs": [],
   "source": [
    "#we delete de columns with na\n",
    "data1 = data1.dropna(axis='columns')"
   ]
  },
  {
   "cell_type": "code",
   "execution_count": 8,
   "metadata": {
    "collapsed": true
   },
   "outputs": [],
   "source": [
    "data2 = data2.dropna(axis='columns')"
   ]
  },
  {
   "cell_type": "code",
   "execution_count": 9,
   "metadata": {
    "collapsed": true
   },
   "outputs": [],
   "source": [
    "#we delete ID variable\n",
    "del data2['ID']"
   ]
  },
  {
   "cell_type": "code",
   "execution_count": 10,
   "metadata": {
    "collapsed": true
   },
   "outputs": [],
   "source": [
    "#we generate our dataset\n",
    "result = data2.join(data1, lsuffix='_census', rsuffix='_referendum')"
   ]
  },
  {
   "cell_type": "code",
   "execution_count": 11,
   "metadata": {
    "collapsed": true
   },
   "outputs": [],
   "source": [
    "result =result.dropna()"
   ]
  },
  {
   "cell_type": "code",
   "execution_count": 12,
   "metadata": {},
   "outputs": [
    {
     "data": {
      "text/html": [
       "<div>\n",
       "<style>\n",
       "    .dataframe thead tr:only-child th {\n",
       "        text-align: right;\n",
       "    }\n",
       "\n",
       "    .dataframe thead th {\n",
       "        text-align: left;\n",
       "    }\n",
       "\n",
       "    .dataframe tbody tr th {\n",
       "        vertical-align: top;\n",
       "    }\n",
       "</style>\n",
       "<table border=\"1\" class=\"dataframe\">\n",
       "  <thead>\n",
       "    <tr style=\"text-align: right;\">\n",
       "      <th></th>\n",
       "      <th>Region Code</th>\n",
       "      <th>Region</th>\n",
       "      <th>Area_census</th>\n",
       "      <th>Electorate</th>\n",
       "      <th>Expected Ballots</th>\n",
       "      <th>Verified Ballot Papers</th>\n",
       "      <th>Percent Turnout</th>\n",
       "      <th>Votes Cast</th>\n",
       "      <th>Valid Votes</th>\n",
       "      <th>Remain</th>\n",
       "      <th>...</th>\n",
       "      <th>Age 35 to 39</th>\n",
       "      <th>Age 40 to 44</th>\n",
       "      <th>Age 45 to 49</th>\n",
       "      <th>Age 50 to 54</th>\n",
       "      <th>Age 55 to 59</th>\n",
       "      <th>Age 60 to 64</th>\n",
       "      <th>Age 65 to 69</th>\n",
       "      <th>Age 70 to 74</th>\n",
       "      <th>Age 75 to 79</th>\n",
       "      <th>Age 80 to 84</th>\n",
       "    </tr>\n",
       "    <tr>\n",
       "      <th>Code</th>\n",
       "      <th></th>\n",
       "      <th></th>\n",
       "      <th></th>\n",
       "      <th></th>\n",
       "      <th></th>\n",
       "      <th></th>\n",
       "      <th></th>\n",
       "      <th></th>\n",
       "      <th></th>\n",
       "      <th></th>\n",
       "      <th></th>\n",
       "      <th></th>\n",
       "      <th></th>\n",
       "      <th></th>\n",
       "      <th></th>\n",
       "      <th></th>\n",
       "      <th></th>\n",
       "      <th></th>\n",
       "      <th></th>\n",
       "      <th></th>\n",
       "      <th></th>\n",
       "    </tr>\n",
       "  </thead>\n",
       "  <tbody>\n",
       "    <tr>\n",
       "      <th>E06000031</th>\n",
       "      <td>E12000006</td>\n",
       "      <td>East</td>\n",
       "      <td>Peterborough</td>\n",
       "      <td>120892</td>\n",
       "      <td>87474</td>\n",
       "      <td>87469</td>\n",
       "      <td>72.35</td>\n",
       "      <td>87469</td>\n",
       "      <td>87392</td>\n",
       "      <td>34176</td>\n",
       "      <td>...</td>\n",
       "      <td>12914.0</td>\n",
       "      <td>13289.0</td>\n",
       "      <td>12677.0</td>\n",
       "      <td>11014.0</td>\n",
       "      <td>9642.0</td>\n",
       "      <td>9382.0</td>\n",
       "      <td>6909.0</td>\n",
       "      <td>5792.0</td>\n",
       "      <td>5026.0</td>\n",
       "      <td>3803.0</td>\n",
       "    </tr>\n",
       "    <tr>\n",
       "      <th>E06000032</th>\n",
       "      <td>E12000006</td>\n",
       "      <td>East</td>\n",
       "      <td>Luton</td>\n",
       "      <td>127612</td>\n",
       "      <td>84633</td>\n",
       "      <td>84636</td>\n",
       "      <td>66.31</td>\n",
       "      <td>84616</td>\n",
       "      <td>84481</td>\n",
       "      <td>36708</td>\n",
       "      <td>...</td>\n",
       "      <td>14066.0</td>\n",
       "      <td>13796.0</td>\n",
       "      <td>13538.0</td>\n",
       "      <td>11225.0</td>\n",
       "      <td>9267.0</td>\n",
       "      <td>8346.0</td>\n",
       "      <td>6542.0</td>\n",
       "      <td>6102.0</td>\n",
       "      <td>5032.0</td>\n",
       "      <td>3408.0</td>\n",
       "    </tr>\n",
       "    <tr>\n",
       "      <th>E06000033</th>\n",
       "      <td>E12000006</td>\n",
       "      <td>East</td>\n",
       "      <td>Southend-on-Sea</td>\n",
       "      <td>128856</td>\n",
       "      <td>93948</td>\n",
       "      <td>93939</td>\n",
       "      <td>72.90</td>\n",
       "      <td>93939</td>\n",
       "      <td>93870</td>\n",
       "      <td>39348</td>\n",
       "      <td>...</td>\n",
       "      <td>12223.0</td>\n",
       "      <td>13083.0</td>\n",
       "      <td>12755.0</td>\n",
       "      <td>10887.0</td>\n",
       "      <td>9667.0</td>\n",
       "      <td>10419.0</td>\n",
       "      <td>8468.0</td>\n",
       "      <td>6716.0</td>\n",
       "      <td>5779.0</td>\n",
       "      <td>4769.0</td>\n",
       "    </tr>\n",
       "    <tr>\n",
       "      <th>E06000034</th>\n",
       "      <td>E12000006</td>\n",
       "      <td>East</td>\n",
       "      <td>Thurrock</td>\n",
       "      <td>109897</td>\n",
       "      <td>79969</td>\n",
       "      <td>79954</td>\n",
       "      <td>72.75</td>\n",
       "      <td>79950</td>\n",
       "      <td>79916</td>\n",
       "      <td>22151</td>\n",
       "      <td>...</td>\n",
       "      <td>12200.0</td>\n",
       "      <td>12558.0</td>\n",
       "      <td>11535.0</td>\n",
       "      <td>9453.0</td>\n",
       "      <td>8387.0</td>\n",
       "      <td>8739.0</td>\n",
       "      <td>5996.0</td>\n",
       "      <td>4742.0</td>\n",
       "      <td>3784.0</td>\n",
       "      <td>2873.0</td>\n",
       "    </tr>\n",
       "    <tr>\n",
       "      <th>E06000055</th>\n",
       "      <td>E12000006</td>\n",
       "      <td>East</td>\n",
       "      <td>Bedford</td>\n",
       "      <td>119530</td>\n",
       "      <td>86136</td>\n",
       "      <td>86136</td>\n",
       "      <td>72.06</td>\n",
       "      <td>86135</td>\n",
       "      <td>86066</td>\n",
       "      <td>41497</td>\n",
       "      <td>...</td>\n",
       "      <td>10601.0</td>\n",
       "      <td>11843.0</td>\n",
       "      <td>11693.0</td>\n",
       "      <td>10206.0</td>\n",
       "      <td>8917.0</td>\n",
       "      <td>9303.0</td>\n",
       "      <td>7045.0</td>\n",
       "      <td>5716.0</td>\n",
       "      <td>4900.0</td>\n",
       "      <td>3780.0</td>\n",
       "    </tr>\n",
       "  </tbody>\n",
       "</table>\n",
       "<p>5 rows × 39 columns</p>\n",
       "</div>"
      ],
      "text/plain": [
       "          Region Code Region      Area_census  Electorate  Expected Ballots  \\\n",
       "Code                                                                          \n",
       "E06000031   E12000006   East     Peterborough      120892             87474   \n",
       "E06000032   E12000006   East            Luton      127612             84633   \n",
       "E06000033   E12000006   East  Southend-on-Sea      128856             93948   \n",
       "E06000034   E12000006   East         Thurrock      109897             79969   \n",
       "E06000055   E12000006   East          Bedford      119530             86136   \n",
       "\n",
       "           Verified Ballot Papers  Percent Turnout  Votes Cast  Valid Votes  \\\n",
       "Code                                                                          \n",
       "E06000031                   87469            72.35       87469        87392   \n",
       "E06000032                   84636            66.31       84616        84481   \n",
       "E06000033                   93939            72.90       93939        93870   \n",
       "E06000034                   79954            72.75       79950        79916   \n",
       "E06000055                   86136            72.06       86135        86066   \n",
       "\n",
       "           Remain     ...       Age 35 to 39  Age 40 to 44  Age 45 to 49  \\\n",
       "Code                  ...                                                  \n",
       "E06000031   34176     ...            12914.0       13289.0       12677.0   \n",
       "E06000032   36708     ...            14066.0       13796.0       13538.0   \n",
       "E06000033   39348     ...            12223.0       13083.0       12755.0   \n",
       "E06000034   22151     ...            12200.0       12558.0       11535.0   \n",
       "E06000055   41497     ...            10601.0       11843.0       11693.0   \n",
       "\n",
       "           Age 50 to 54  Age 55 to 59  Age 60 to 64  Age 65 to 69  \\\n",
       "Code                                                                \n",
       "E06000031       11014.0        9642.0        9382.0        6909.0   \n",
       "E06000032       11225.0        9267.0        8346.0        6542.0   \n",
       "E06000033       10887.0        9667.0       10419.0        8468.0   \n",
       "E06000034        9453.0        8387.0        8739.0        5996.0   \n",
       "E06000055       10206.0        8917.0        9303.0        7045.0   \n",
       "\n",
       "           Age 70 to 74  Age 75 to 79 Age 80 to 84  \n",
       "Code                                                \n",
       "E06000031        5792.0        5026.0       3803.0  \n",
       "E06000032        6102.0        5032.0       3408.0  \n",
       "E06000033        6716.0        5779.0       4769.0  \n",
       "E06000034        4742.0        3784.0       2873.0  \n",
       "E06000055        5716.0        4900.0       3780.0  \n",
       "\n",
       "[5 rows x 39 columns]"
      ]
     },
     "execution_count": 12,
     "metadata": {},
     "output_type": "execute_result"
    }
   ],
   "source": [
    "result.head()"
   ]
  },
  {
   "cell_type": "code",
   "execution_count": 13,
   "metadata": {
    "collapsed": true
   },
   "outputs": [],
   "source": [
    "result = result.reindex_axis(sorted(result.columns), axis=1)"
   ]
  },
  {
   "cell_type": "code",
   "execution_count": 14,
   "metadata": {},
   "outputs": [],
   "source": [
    "#list(result)"
   ]
  },
  {
   "cell_type": "code",
   "execution_count": 15,
   "metadata": {
    "collapsed": true
   },
   "outputs": [],
   "source": [
    "#we dont want double information\n",
    "del result['Area_census']"
   ]
  },
  {
   "cell_type": "code",
   "execution_count": 16,
   "metadata": {
    "collapsed": true
   },
   "outputs": [],
   "source": [
    "result=result.rename(columns = {'Area_referendum': \"Area\"})"
   ]
  },
  {
   "cell_type": "code",
   "execution_count": 17,
   "metadata": {},
   "outputs": [
    {
     "data": {
      "text/plain": [
       "(375, 38)"
      ]
     },
     "execution_count": 17,
     "metadata": {},
     "output_type": "execute_result"
    }
   ],
   "source": [
    "#dimensions of our dataset\n",
    "dim=result.shape\n",
    "dim"
   ]
  },
  {
   "cell_type": "code",
   "execution_count": 18,
   "metadata": {},
   "outputs": [
    {
     "data": {
      "text/plain": [
       "14250"
      ]
     },
     "execution_count": 18,
     "metadata": {},
     "output_type": "execute_result"
    }
   ],
   "source": [
    "#the multiplication:\n",
    "dim[1]*dim[0]"
   ]
  },
  {
   "cell_type": "code",
   "execution_count": 19,
   "metadata": {},
   "outputs": [],
   "source": [
    "#to see the first row of result\n",
    "#result.iloc[[1]]"
   ]
  },
  {
   "cell_type": "markdown",
   "metadata": {},
   "source": [
    "## plots"
   ]
  },
  {
   "cell_type": "code",
   "execution_count": 20,
   "metadata": {},
   "outputs": [
    {
     "data": {
      "text/plain": [
       "Region\n",
       "East                        43\n",
       "East Midlands               40\n",
       "London                      33\n",
       "North East                  10\n",
       "North West                  39\n",
       "Northern Ireland             1\n",
       "Scotland                    32\n",
       "South East                  67\n",
       "South West                  37\n",
       "Wales                       22\n",
       "West Midlands               30\n",
       "Yorkshire and The Humber    21\n",
       "Name: Type, dtype: int64"
      ]
     },
     "execution_count": 20,
     "metadata": {},
     "output_type": "execute_result"
    }
   ],
   "source": [
    "from matplotlib import pyplot as plt\n",
    "#let's do some plots\n",
    "result.groupby(['Region']).Type.count()"
   ]
  },
  {
   "cell_type": "markdown",
   "metadata": {},
   "source": [
    "### What we have been told is that the Brexit turn out to be a \"leave\" because of the old people and the young people wanted to stay in Europe. Let's see:"
   ]
  },
  {
   "cell_type": "code",
   "execution_count": 21,
   "metadata": {
    "collapsed": true
   },
   "outputs": [],
   "source": [
    "reg = result[\"Region\"].values\n",
    "import matplotlib.patches as mpatches\n",
    "\n",
    "my_col=[]\n",
    "for i in range(len(reg)):\n",
    "    if reg[i]==\"Northern Ireland\":\n",
    "        my_col.append(\"green\")\n",
    "    elif reg[i]==\"South West\" or reg[i]==\"Wales\":\n",
    "        my_col.append(\"yellow\")\n",
    "    elif reg[i]==\"Scotland\":\n",
    "        my_col.append(\"blue\")\n",
    "    else:\n",
    "        my_col.append(\"red\")"
   ]
  },
  {
   "cell_type": "code",
   "execution_count": 22,
   "metadata": {},
   "outputs": [
    {
     "data": {
      "image/png": "[encoded data removed]",
      "text/plain": [
       "<matplotlib.figure.Figure at 0x7f735fe5e0b8>"
      ]
     },
     "metadata": {},
     "output_type": "display_data"
    }
   ],
   "source": [
    "x = result['Age 65 to 69'].values+result['Age 70 to 74'].values+result['Age 75 to 79'].values+result['Age 80 to 84'].values\n",
    "y = result['Leave'].values\n",
    "plt.scatter(x,y, label=\"origial data\",color=my_col)\n",
    "\n",
    "\n",
    "red_patch = mpatches.Patch(color='red', label='England')\n",
    "blue_patch = mpatches.Patch(color='blue', label='Scotland')\n",
    "green_patch = mpatches.Patch(color='green', label='Northen Ireland')\n",
    "yellow_patch = mpatches.Patch(color='yellow', label='Wales')\n",
    "\n",
    "plt.legend(handles=[red_patch, blue_patch, green_patch, yellow_patch])\n",
    "plt.xlabel(\"population older than 65\")\n",
    "plt.ylabel('Leave')\n",
    "plt.show()"
   ]
  },
  {
   "cell_type": "code",
   "execution_count": 23,
   "metadata": {},
   "outputs": [
    {
     "data": {
      "image/png": "[encoded data removed]",
      "text/plain": [
       "<matplotlib.figure.Figure at 0x7f7357c5f2e8>"
      ]
     },
     "metadata": {},
     "output_type": "display_data"
    }
   ],
   "source": [
    "x = result['Age 20 to 24'].values+result['Age 25 to 29'].values+result['Age 30 to 34'].values+result['Age 35 to 39'].values\n",
    "y = result['Remain'].values\n",
    "plt.scatter(x,y, label=\"origial data\",color=my_col)\n",
    "\n",
    "\n",
    "red_patch = mpatches.Patch(color='red', label='England')\n",
    "blue_patch = mpatches.Patch(color='blue', label='Scotland')\n",
    "green_patch = mpatches.Patch(color='green', label='Northen Ireland')\n",
    "yellow_patch = mpatches.Patch(color='yellow', label='Wales')\n",
    "\n",
    "plt.legend(handles=[red_patch, blue_patch, green_patch, yellow_patch])\n",
    "plt.xlabel(\"population between 20 and 40 years\")\n",
    "plt.ylabel('Remain')\n",
    "plt.show()"
   ]
  },
  {
   "cell_type": "markdown",
   "metadata": {},
   "source": [
    "### We can see that the amount of votes to leave increases as the older population increases while the amount of votes to remain increases as the younger population increases. The media information was right."
   ]
  },
  {
   "cell_type": "markdown",
   "metadata": {},
   "source": [
    "## Applying PCA in order to detect the most important numerical variables to use"
   ]
  },
  {
   "cell_type": "code",
   "execution_count": 24,
   "metadata": {
    "collapsed": true
   },
   "outputs": [],
   "source": [
    "from matplotlib.mlab import PCA as mlabPCA \n",
    "from sklearn import preprocessing \n"
   ]
  },
  {
   "cell_type": "code",
   "execution_count": 25,
   "metadata": {
    "collapsed": true
   },
   "outputs": [],
   "source": [
    "#We can only apply PCA in the numerical variables\n",
    "num=result._get_numeric_data()\n",
    "my_numeric =list(num)\n",
    "my_not_numeric = list(set(list(result)) - set(my_numeric))\n",
    "d=num.values"
   ]
  },
  {
   "cell_type": "code",
   "execution_count": 26,
   "metadata": {
    "collapsed": true
   },
   "outputs": [],
   "source": [
    "#Applying mlabPCA we don't need to standarize the variables, it does it directly\n",
    "d_pca=mlabPCA(d)\n",
    "#principal components\n",
    "#d_pca.Y"
   ]
  },
  {
   "cell_type": "code",
   "execution_count": 27,
   "metadata": {
    "collapsed": true
   },
   "outputs": [],
   "source": [
    "### Plotting the PCA1 and PCA2"
   ]
  },
  {
   "cell_type": "code",
   "execution_count": 28,
   "metadata": {},
   "outputs": [
    {
     "data": {
      "image/png": "[encoded data removed]",
      "text/plain": [
       "<matplotlib.figure.Figure at 0x7f734f3905f8>"
      ]
     },
     "metadata": {},
     "output_type": "display_data"
    }
   ],
   "source": [
    "plt.scatter(d_pca.Y[:,0],d_pca.Y[:,1],color=my_col)\n",
    "\n",
    "plt.legend(handles=[red_patch, blue_patch, green_patch, yellow_patch])\n",
    "plt.xlabel(\"Principal Component 1\")\n",
    "plt.ylabel(\"Principal Component 2\")\n",
    "plt.show()"
   ]
  },
  {
   "cell_type": "markdown",
   "metadata": {},
   "source": [
    "#### We can see that the population is not divided by the country it belongs (appart from Northen Ireland)"
   ]
  },
  {
   "cell_type": "markdown",
   "metadata": {},
   "source": [
    "#### Finding the variables we can delete"
   ]
  },
  {
   "cell_type": "code",
   "execution_count": 29,
   "metadata": {},
   "outputs": [],
   "source": [
    "std_scale=preprocessing.StandardScaler().fit(d)\n",
    "d_std=std_scale.transform(d)\n",
    "d_cov = np.cov(d_std.T)"
   ]
  },
  {
   "cell_type": "code",
   "execution_count": 30,
   "metadata": {},
   "outputs": [
    {
     "name": "stdout",
     "output_type": "stream",
     "text": [
      "26.1701017053\n",
      "2.99229529855\n",
      "1.46342660074\n",
      "0.882990304166\n",
      "0.808977961319\n",
      "0.753971239982\n",
      "0.349902231324\n",
      "0.189691338059\n",
      "0.156395295478\n",
      "0.106953949756\n",
      "0.0749542699613\n",
      "0.0556733479138\n",
      "0.029186024816\n",
      "0.0212021963075\n",
      "0.0114972812166\n",
      "0.00712963834814\n",
      "0.00512353906327\n",
      "0.00407259872935\n",
      "0.00174461281959\n",
      "0.0014253748381\n",
      "0.00108753823582\n",
      "0.000770487674316\n",
      "0.000680408044814\n",
      "0.000576860787541\n",
      "0.000443046173114\n",
      "0.000382379054357\n",
      "0.000244338248031\n",
      "9.20396207481e-06\n",
      "1.74266813479e-08\n",
      "2.5713955684e-09\n",
      "4.09546585139e-16\n",
      "2.77981805569e-16\n",
      "9.41420150984e-17\n",
      "9.41420150984e-17\n"
     ]
    }
   ],
   "source": [
    "d_val, dvec = np.linalg.eig(d_cov)\n",
    "d_val=d_val.real\n",
    "dvec=dvec.real\n",
    "#dvec[:,0].reshape(1,34).T\n",
    "# Make a list of (eigenvalue, eigenvector) tuples\n",
    "eig_pairs = [(np.abs(d_val[i]), dvec[:,i]) for i in range(len(d_val))]\n",
    "\n",
    "# Sort the (eigenvalue, eigenvector) tuples from high to low\n",
    "eig_pairs.sort(key=lambda x: x[0], reverse=True)\n",
    "\n",
    "# Visually confirm that the list is correctly sorted by decreasing eigenvalues\n",
    "for i in eig_pairs:\n",
    "    print(i[0])"
   ]
  },
  {
   "cell_type": "code",
   "execution_count": 31,
   "metadata": {},
   "outputs": [
    {
     "data": {
      "text/plain": [
       "array([-0.19142053, -0.1923594 , -0.19272445, -0.18309711, -0.18211268,\n",
       "       -0.1850175 , -0.19240359, -0.19442428, -0.19386277, -0.19214824,\n",
       "       -0.1930937 , -0.19182249, -0.18710157, -0.18411891, -0.18647192,\n",
       "       -0.18668045, -0.1751473 , -0.19524854, -0.19484238, -0.19330258,\n",
       "       -0.17842376, -0.15375408, -0.0758614 ,  0.04040527, -0.04695565,\n",
       "       -0.04040527,  0.07881332, -0.17061573, -0.18802531, -0.17053142,\n",
       "       -0.19329175, -0.19330212, -0.19330262, -0.06067989])"
      ]
     },
     "execution_count": 31,
     "metadata": {},
     "output_type": "execute_result"
    }
   ],
   "source": [
    "#Pricipal component 1\n",
    "eig_pairs[0][1]"
   ]
  },
  {
   "cell_type": "code",
   "execution_count": 32,
   "metadata": {},
   "outputs": [],
   "source": [
    "d_val.sort()"
   ]
  },
  {
   "cell_type": "code",
   "execution_count": 33,
   "metadata": {},
   "outputs": [
    {
     "name": "stdout",
     "output_type": "stream",
     "text": [
      "cumulated variance of the first two PCA components:  0.855430312114\n"
     ]
    }
   ],
   "source": [
    "print('cumulated variance of the first two PCA components: ',(d_val[-1]+d_val[-2])/sum(d_val))"
   ]
  },
  {
   "cell_type": "code",
   "execution_count": 34,
   "metadata": {},
   "outputs": [],
   "source": [
    "m=[d_val[-i] for i in range(1,7)]\n",
    "cum = []\n",
    "suma=0\n",
    "for i in range(6):\n",
    "    suma+=m[i]/sum(d_val)\n",
    "    cum.append(suma)"
   ]
  },
  {
   "cell_type": "code",
   "execution_count": 35,
   "metadata": {},
   "outputs": [
    {
     "name": "stdout",
     "output_type": "stream",
     "text": [
      "PCA components till  cumulated variance\n",
      "                  1            0.767656\n",
      "                  2            0.855430\n",
      "                  3            0.898357\n",
      "                  4            0.924259\n",
      "                  5            0.947989\n",
      "                  6            0.970105\n"
     ]
    }
   ],
   "source": [
    "d = {'PCA components till': [1,2,3,4,5,6], 'cumulated variance': cum}\n",
    "df = pd.DataFrame(data=d)\n",
    "print(df.to_string(index=False))\n",
    "\n"
   ]
  },
  {
   "cell_type": "markdown",
   "metadata": {},
   "source": [
    "#### LOADINGS: How important is a variable for a principal component. We will delete the variables that are not supperior than 0.75 in the two first components"
   ]
  },
  {
   "cell_type": "code",
   "execution_count": 36,
   "metadata": {},
   "outputs": [],
   "source": [
    "lo_1=eig_pairs[0][1]*np.sqrt(eig_pairs[0][0])\n",
    "lo_2=eig_pairs[1][1]*np.sqrt(eig_pairs[1][0])"
   ]
  },
  {
   "cell_type": "code",
   "execution_count": 37,
   "metadata": {
    "collapsed": true
   },
   "outputs": [],
   "source": [
    "l1 = []\n",
    "l2 = []\n",
    "for i in range(len(my_numeric)):\n",
    "    l1.append([my_numeric[i], abs(lo_1[i])])\n",
    "    l2.append([my_numeric[i], abs(lo_2[i])])"
   ]
  },
  {
   "cell_type": "code",
   "execution_count": 38,
   "metadata": {
    "collapsed": true
   },
   "outputs": [],
   "source": [
    "delete=[] #variables to delete:\n",
    "total=[] #cumulative importance of each variable in the two first components\n",
    "for i in range(len(my_numeric)):\n",
    "    if (l1[i][1]<0.75 and l2[i][1]<0.75):\n",
    "        delete.append(l1[i][0])\n",
    "    total.append([l1[i][0], l1[i][1]+l2[i][1]])\n",
    "import operator\n",
    "total=sorted(total,key=lambda x: -x[1])"
   ]
  },
  {
   "cell_type": "code",
   "execution_count": 39,
   "metadata": {},
   "outputs": [
    {
     "data": {
      "text/plain": [
       "['No Official Mark', 'Percent Turnout', 'Writing or Mark']"
      ]
     },
     "execution_count": 39,
     "metadata": {},
     "output_type": "execute_result"
    }
   ],
   "source": [
    "#variables to delete:\n",
    "delete"
   ]
  },
  {
   "cell_type": "markdown",
   "metadata": {},
   "source": [
    "#### Since we want to take into consideration the most important values we won't use the variables 'No Official Mark', 'Percent Turnout', 'Writing or Mark'"
   ]
  },
  {
   "cell_type": "code",
   "execution_count": 40,
   "metadata": {},
   "outputs": [],
   "source": [
    "for i in range(len(delete)):\n",
    "    del result[delete[i]]\n"
   ]
  },
  {
   "cell_type": "markdown",
   "metadata": {},
   "source": [
    "#### writting our dataset"
   ]
  },
  {
   "cell_type": "code",
   "execution_count": 41,
   "metadata": {
    "collapsed": true
   },
   "outputs": [],
   "source": [
    "result.to_csv(\"Brexit_data\", sep='\\t', encoding='utf-8')"
   ]
  },
  {
   "cell_type": "code",
   "execution_count": 42,
   "metadata": {},
   "outputs": [
    {
     "data": {
      "text/plain": [
       "(375, 35)"
      ]
     },
     "execution_count": 42,
     "metadata": {},
     "output_type": "execute_result"
    }
   ],
   "source": [
    "#dimension of our data\n",
    "result.shape"
   ]
  },
  {
   "cell_type": "code",
   "execution_count": 43,
   "metadata": {},
   "outputs": [
    {
     "data": {
      "text/plain": [
       "13125"
      ]
     },
     "execution_count": 43,
     "metadata": {},
     "output_type": "execute_result"
    }
   ],
   "source": [
    "#multiplication:\n",
    "result.shape[1]*result.shape[0]\n"
   ]
  }
 ],
 "metadata": {
  "kernelspec": {
   "display_name": "Python 3",
   "language": "python",
   "name": "python3"
  },
  "language_info": {
   "codemirror_mode": {
    "name": "ipython",
    "version": 3
   },
   "file_extension": ".py",
   "mimetype": "text/x-python",
   "name": "python",
   "nbconvert_exporter": "python",
   "pygments_lexer": "ipython3",
   "version": "3.6.3"
  }
 },
 "nbformat": 4,
 "nbformat_minor": 2
}
